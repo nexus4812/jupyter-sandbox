{
 "cells": [
  {
   "cell_type": "code",
   "execution_count": 1,
   "id": "c9429ed0-177f-4882-a993-17c9ce7d378b",
   "metadata": {},
   "outputs": [
    {
     "ename": "ModuleNotFoundError",
     "evalue": "No module named 'yahoofinancials'",
     "output_type": "error",
     "traceback": [
      "\u001b[0;31m---------------------------------------------------------------------------\u001b[0m",
      "\u001b[0;31mModuleNotFoundError\u001b[0m                       Traceback (most recent call last)",
      "Input \u001b[0;32mIn [1]\u001b[0m, in \u001b[0;36m<cell line: 1>\u001b[0;34m()\u001b[0m\n\u001b[0;32m----> 1\u001b[0m \u001b[38;5;28;01mfrom\u001b[39;00m \u001b[38;5;21;01myahoofinancials\u001b[39;00m \u001b[38;5;28;01mimport\u001b[39;00m YahooFinancials\n\u001b[1;32m      3\u001b[0m ticker \u001b[38;5;241m=\u001b[39m \u001b[38;5;124m'\u001b[39m\u001b[38;5;124mAAPL\u001b[39m\u001b[38;5;124m'\u001b[39m\n\u001b[1;32m      4\u001b[0m yahoo_financials \u001b[38;5;241m=\u001b[39m YahooFinancials(ticker)\n",
      "\u001b[0;31mModuleNotFoundError\u001b[0m: No module named 'yahoofinancials'"
     ]
    }
   ],
   "source": [
    "from yahoofinancials import YahooFinancials\n",
    "\n",
    "ticker = 'AAPL'\n",
    "yahoo_financials = YahooFinancials(ticker)"
   ]
  },
  {
   "cell_type": "code",
   "execution_count": null,
   "id": "f90c5d82-6ea8-4933-af1e-662cccaa7b98",
   "metadata": {},
   "outputs": [],
   "source": [
    "print(yahoo_financials)"
   ]
  },
  {
   "cell_type": "code",
   "execution_count": null,
   "id": "c65131a0-70d0-45ae-ae79-d3686d7be1c7",
   "metadata": {},
   "outputs": [],
   "source": []
  }
 ],
 "metadata": {
  "kernelspec": {
   "display_name": "Python 3 (ipykernel)",
   "language": "python",
   "name": "python3"
  },
  "language_info": {
   "codemirror_mode": {
    "name": "ipython",
    "version": 3
   },
   "file_extension": ".py",
   "mimetype": "text/x-python",
   "name": "python",
   "nbconvert_exporter": "python",
   "pygments_lexer": "ipython3",
   "version": "3.9.10"
  }
 },
 "nbformat": 4,
 "nbformat_minor": 5
}
