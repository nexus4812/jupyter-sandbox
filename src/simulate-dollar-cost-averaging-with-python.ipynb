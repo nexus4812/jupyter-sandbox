{
 "cells": [
  {
   "cell_type": "code",
   "execution_count": 1,
   "id": "c9429ed0-177f-4882-a993-17c9ce7d378b",
   "metadata": {},
   "outputs": [],
   "source": [
    "# libraries for working with our data\n",
    "# https://datadrivenmoney.com/simulate-dollar-cost-averaging-with-python/\n",
    "import pandas as pd\n",
    "import numpy as np\n",
    "import yfinance as yf\n",
    "import datetime\n",
    "\n",
    "# libraries for plotting\n",
    "from matplotlib import pyplot as plt\n",
    "import seaborn as sns\n",
    "\n",
    "# Use Pandas to reformat columns to be displayed as currency\n",
    "pd.options.display.float_format = '{:6.2f}'.format"
   ]
  },
  {
   "cell_type": "code",
   "execution_count": 2,
   "id": "66d04372-caf1-4fc7-b65e-13b1725bef06",
   "metadata": {},
   "outputs": [
    {
     "name": "stdout",
     "output_type": "stream",
     "text": [
      "[*********************100%***********************]  1 of 1 completed\n"
     ]
    },
    {
     "data": {
      "text/html": [
       "<div>\n",
       "<style scoped>\n",
       "    .dataframe tbody tr th:only-of-type {\n",
       "        vertical-align: middle;\n",
       "    }\n",
       "\n",
       "    .dataframe tbody tr th {\n",
       "        vertical-align: top;\n",
       "    }\n",
       "\n",
       "    .dataframe thead th {\n",
       "        text-align: right;\n",
       "    }\n",
       "</style>\n",
       "<table border=\"1\" class=\"dataframe\">\n",
       "  <thead>\n",
       "    <tr style=\"text-align: right;\">\n",
       "      <th></th>\n",
       "      <th>Open</th>\n",
       "      <th>High</th>\n",
       "      <th>Low</th>\n",
       "      <th>Close</th>\n",
       "      <th>Adj Close</th>\n",
       "      <th>Volume</th>\n",
       "    </tr>\n",
       "    <tr>\n",
       "      <th>Date</th>\n",
       "      <th></th>\n",
       "      <th></th>\n",
       "      <th></th>\n",
       "      <th></th>\n",
       "      <th></th>\n",
       "      <th></th>\n",
       "    </tr>\n",
       "  </thead>\n",
       "  <tbody>\n",
       "    <tr>\n",
       "      <th>2017-04-03</th>\n",
       "      <td>235.80</td>\n",
       "      <td>236.03</td>\n",
       "      <td>233.91</td>\n",
       "      <td>235.33</td>\n",
       "      <td>215.65</td>\n",
       "      <td>85546500</td>\n",
       "    </tr>\n",
       "    <tr>\n",
       "      <th>2017-04-04</th>\n",
       "      <td>235.00</td>\n",
       "      <td>235.58</td>\n",
       "      <td>234.56</td>\n",
       "      <td>235.48</td>\n",
       "      <td>215.79</td>\n",
       "      <td>56466200</td>\n",
       "    </tr>\n",
       "    <tr>\n",
       "      <th>2017-04-05</th>\n",
       "      <td>236.26</td>\n",
       "      <td>237.39</td>\n",
       "      <td>234.54</td>\n",
       "      <td>234.78</td>\n",
       "      <td>215.15</td>\n",
       "      <td>108800600</td>\n",
       "    </tr>\n",
       "    <tr>\n",
       "      <th>2017-04-06</th>\n",
       "      <td>234.94</td>\n",
       "      <td>236.04</td>\n",
       "      <td>234.43</td>\n",
       "      <td>235.44</td>\n",
       "      <td>215.75</td>\n",
       "      <td>69135800</td>\n",
       "    </tr>\n",
       "    <tr>\n",
       "      <th>2017-04-07</th>\n",
       "      <td>235.15</td>\n",
       "      <td>236.00</td>\n",
       "      <td>234.64</td>\n",
       "      <td>235.20</td>\n",
       "      <td>215.53</td>\n",
       "      <td>74412300</td>\n",
       "    </tr>\n",
       "  </tbody>\n",
       "</table>\n",
       "</div>"
      ],
      "text/plain": [
       "             Open   High    Low  Close  Adj Close     Volume\n",
       "Date                                                        \n",
       "2017-04-03 235.80 236.03 233.91 235.33     215.65   85546500\n",
       "2017-04-04 235.00 235.58 234.56 235.48     215.79   56466200\n",
       "2017-04-05 236.26 237.39 234.54 234.78     215.15  108800600\n",
       "2017-04-06 234.94 236.04 234.43 235.44     215.75   69135800\n",
       "2017-04-07 235.15 236.00 234.64 235.20     215.53   74412300"
      ]
     },
     "execution_count": 2,
     "metadata": {},
     "output_type": "execute_result"
    }
   ],
   "source": [
    "# first, we need to get a hold of the appropriate data\n",
    "# so we can eventually simulate our dollar cost average method\n",
    "data = yf.download(\n",
    "\n",
    "        # download only the tickers we want\n",
    "        # In this example I will use 'SPY' which\n",
    "        # attempts to track the performance of the S&P 500\n",
    "        tickers = \"SPY\",\n",
    "\n",
    "        # What period of time are we interested in?\n",
    "        # valid periods: 1d,5d,1mo,3mo,6mo,1y,2y,5y,10y,ytd,max\n",
    "        # In our case we will choose 10y\n",
    "        period = \"5y\",\n",
    "\n",
    "        # Next we need to define our interval.\n",
    "        interval = \"1d\",\n",
    "\n",
    "        # Ensure our data is grouped properly.\n",
    "        group_by = 'ticker',\n",
    ")\n",
    "\n",
    "# take a peek at our data\n",
    "data.head()"
   ]
  },
  {
   "cell_type": "code",
   "execution_count": 3,
   "id": "f90c5d82-6ea8-4933-af1e-662cccaa7b98",
   "metadata": {},
   "outputs": [],
   "source": [
    "# now we need to define the parameters of our dollar cost average\n",
    "\n",
    "# the starting principal\n",
    "p = 10000\n",
    "\n",
    "# the amount to dollar cost average per month\n",
    "monthly_add = 500\n",
    "\n",
    "# starting date\n",
    "starting_year = 2017\n",
    "starting_month = 1\n",
    "\n",
    "# ending date\n",
    "ending_year = 2021\n",
    "ending_month = 12"
   ]
  },
  {
   "cell_type": "code",
   "execution_count": 4,
   "id": "6beacb6a-a26b-49ea-b05b-abfa4ee3a599",
   "metadata": {},
   "outputs": [
    {
     "data": {
      "text/plain": [
       "0   2017-01-31\n",
       "1   2017-02-28\n",
       "2   2017-03-31\n",
       "3   2017-04-30\n",
       "4   2017-05-31\n",
       "dtype: datetime64[ns]"
      ]
     },
     "execution_count": 4,
     "metadata": {},
     "output_type": "execute_result"
    }
   ],
   "source": [
    "# calculate the number of periods (number of months for the excercise)\n",
    "periods = (ending_year - starting_year - 1) * 12 + (ending_month - starting_month + 1)\n",
    "\n",
    "# create a date variable based on starting year and month above\n",
    "starting_date = str(starting_year)+'-'+str(starting_month)+'-01'\n",
    "\n",
    "# use starting_date and number of periods (months) to create a series of all\n",
    "# contribution dates\n",
    "contribution_dates = pd.Series(pd.date_range(str(starting_date), freq=\"M\", periods=periods))\n",
    "contribution_dates.head()"
   ]
  },
  {
   "cell_type": "code",
   "execution_count": 5,
   "id": "c65131a0-70d0-45ae-ae79-d3686d7be1c7",
   "metadata": {},
   "outputs": [
    {
     "name": "stdout",
     "output_type": "stream",
     "text": [
      "2017-01-31 00:00:00 Tuesday\n",
      "2017-02-28 00:00:00 Tuesday\n",
      "2017-03-31 00:00:00 Friday\n",
      "2017-04-30 00:00:00 Sunday\n",
      "2017-09-30 00:00:00 Saturday\n",
      "2017-12-31 00:00:00 Sunday\n",
      "2018-03-31 00:00:00 Saturday\n",
      "2018-06-30 00:00:00 Saturday\n",
      "2018-09-30 00:00:00 Sunday\n",
      "2019-03-31 00:00:00 Sunday\n",
      "2019-06-30 00:00:00 Sunday\n",
      "2019-08-31 00:00:00 Saturday\n",
      "2019-11-30 00:00:00 Saturday\n",
      "2020-02-29 00:00:00 Saturday\n",
      "2020-05-31 00:00:00 Sunday\n",
      "2020-10-31 00:00:00 Saturday\n"
     ]
    }
   ],
   "source": [
    "# quickly print out all contribution dates that were not trading days\n",
    "for i in range(len(contribution_dates)):\n",
    "  if contribution_dates[i] not in data.index:\n",
    "    print(contribution_dates[i], contribution_dates[i].day_name())"
   ]
  },
  {
   "cell_type": "code",
   "execution_count": 6,
   "id": "4e92bde6-38cb-4ebf-af90-63b04a1f5607",
   "metadata": {},
   "outputs": [
    {
     "name": "stdout",
     "output_type": "stream",
     "text": [
      "2017-01-30 00:00:00 Monday\n",
      "2017-02-27 00:00:00 Monday\n",
      "2017-03-30 00:00:00 Thursday\n",
      "2017-04-29 00:00:00 Saturday\n",
      "2017-12-30 00:00:00 Saturday\n",
      "2018-03-30 00:00:00 Friday\n",
      "2018-09-29 00:00:00 Saturday\n",
      "2019-03-30 00:00:00 Saturday\n",
      "2019-06-29 00:00:00 Saturday\n",
      "2020-05-30 00:00:00 Saturday\n"
     ]
    }
   ],
   "source": [
    "# If the day is not a trading day then move it one day previous and store\n",
    "for i in range(len(contribution_dates)):\n",
    "  if contribution_dates[i] not in data.index:\n",
    "    contribution_dates[i] = contribution_dates[i] - pd.Timedelta(\"1 day\")\n",
    "\n",
    "# Once again print out the dates to see how we did\n",
    "for i in range(len(contribution_dates)):\n",
    "  if contribution_dates[i] not in data.index:\n",
    "    print(contribution_dates[i], contribution_dates[i].day_name())"
   ]
  },
  {
   "cell_type": "code",
   "execution_count": 7,
   "id": "d795484e-27cc-4196-8165-9f482f02fa50",
   "metadata": {},
   "outputs": [
    {
     "ename": "KeyError",
     "evalue": "Timestamp('2017-01-30 00:00:00')",
     "output_type": "error",
     "traceback": [
      "\u001b[0;31m---------------------------------------------------------------------------\u001b[0m",
      "\u001b[0;31mKeyError\u001b[0m                                  Traceback (most recent call last)",
      "File \u001b[0;32m/opt/conda/lib/python3.9/site-packages/pandas/_libs/index.pyx:545\u001b[0m, in \u001b[0;36mpandas._libs.index.DatetimeEngine.get_loc\u001b[0;34m()\u001b[0m\n",
      "File \u001b[0;32mpandas/_libs/hashtable_class_helper.pxi:2131\u001b[0m, in \u001b[0;36mpandas._libs.hashtable.Int64HashTable.get_item\u001b[0;34m()\u001b[0m\n",
      "File \u001b[0;32mpandas/_libs/hashtable_class_helper.pxi:2140\u001b[0m, in \u001b[0;36mpandas._libs.hashtable.Int64HashTable.get_item\u001b[0;34m()\u001b[0m\n",
      "\u001b[0;31mKeyError\u001b[0m: 1485734400000000000",
      "\nDuring handling of the above exception, another exception occurred:\n",
      "\u001b[0;31mKeyError\u001b[0m                                  Traceback (most recent call last)",
      "File \u001b[0;32m/opt/conda/lib/python3.9/site-packages/pandas/core/indexes/base.py:3621\u001b[0m, in \u001b[0;36mIndex.get_loc\u001b[0;34m(self, key, method, tolerance)\u001b[0m\n\u001b[1;32m   3620\u001b[0m \u001b[38;5;28;01mtry\u001b[39;00m:\n\u001b[0;32m-> 3621\u001b[0m     \u001b[38;5;28;01mreturn\u001b[39;00m \u001b[38;5;28;43mself\u001b[39;49m\u001b[38;5;241;43m.\u001b[39;49m\u001b[43m_engine\u001b[49m\u001b[38;5;241;43m.\u001b[39;49m\u001b[43mget_loc\u001b[49m\u001b[43m(\u001b[49m\u001b[43mcasted_key\u001b[49m\u001b[43m)\u001b[49m\n\u001b[1;32m   3622\u001b[0m \u001b[38;5;28;01mexcept\u001b[39;00m \u001b[38;5;167;01mKeyError\u001b[39;00m \u001b[38;5;28;01mas\u001b[39;00m err:\n",
      "File \u001b[0;32m/opt/conda/lib/python3.9/site-packages/pandas/_libs/index.pyx:513\u001b[0m, in \u001b[0;36mpandas._libs.index.DatetimeEngine.get_loc\u001b[0;34m()\u001b[0m\n",
      "File \u001b[0;32m/opt/conda/lib/python3.9/site-packages/pandas/_libs/index.pyx:547\u001b[0m, in \u001b[0;36mpandas._libs.index.DatetimeEngine.get_loc\u001b[0;34m()\u001b[0m\n",
      "\u001b[0;31mKeyError\u001b[0m: Timestamp('2017-01-30 00:00:00')",
      "\nThe above exception was the direct cause of the following exception:\n",
      "\u001b[0;31mKeyError\u001b[0m                                  Traceback (most recent call last)",
      "File \u001b[0;32m/opt/conda/lib/python3.9/site-packages/pandas/core/indexes/datetimes.py:679\u001b[0m, in \u001b[0;36mDatetimeIndex.get_loc\u001b[0;34m(self, key, method, tolerance)\u001b[0m\n\u001b[1;32m    678\u001b[0m \u001b[38;5;28;01mtry\u001b[39;00m:\n\u001b[0;32m--> 679\u001b[0m     \u001b[38;5;28;01mreturn\u001b[39;00m \u001b[43mIndex\u001b[49m\u001b[38;5;241;43m.\u001b[39;49m\u001b[43mget_loc\u001b[49m\u001b[43m(\u001b[49m\u001b[38;5;28;43mself\u001b[39;49m\u001b[43m,\u001b[49m\u001b[43m \u001b[49m\u001b[43mkey\u001b[49m\u001b[43m,\u001b[49m\u001b[43m \u001b[49m\u001b[43mmethod\u001b[49m\u001b[43m,\u001b[49m\u001b[43m \u001b[49m\u001b[43mtolerance\u001b[49m\u001b[43m)\u001b[49m\n\u001b[1;32m    680\u001b[0m \u001b[38;5;28;01mexcept\u001b[39;00m \u001b[38;5;167;01mKeyError\u001b[39;00m \u001b[38;5;28;01mas\u001b[39;00m err:\n",
      "File \u001b[0;32m/opt/conda/lib/python3.9/site-packages/pandas/core/indexes/base.py:3623\u001b[0m, in \u001b[0;36mIndex.get_loc\u001b[0;34m(self, key, method, tolerance)\u001b[0m\n\u001b[1;32m   3622\u001b[0m \u001b[38;5;28;01mexcept\u001b[39;00m \u001b[38;5;167;01mKeyError\u001b[39;00m \u001b[38;5;28;01mas\u001b[39;00m err:\n\u001b[0;32m-> 3623\u001b[0m     \u001b[38;5;28;01mraise\u001b[39;00m \u001b[38;5;167;01mKeyError\u001b[39;00m(key) \u001b[38;5;28;01mfrom\u001b[39;00m \u001b[38;5;21;01merr\u001b[39;00m\n\u001b[1;32m   3624\u001b[0m \u001b[38;5;28;01mexcept\u001b[39;00m \u001b[38;5;167;01mTypeError\u001b[39;00m:\n\u001b[1;32m   3625\u001b[0m     \u001b[38;5;66;03m# If we have a listlike key, _check_indexing_error will raise\u001b[39;00m\n\u001b[1;32m   3626\u001b[0m     \u001b[38;5;66;03m#  InvalidIndexError. Otherwise we fall through and re-raise\u001b[39;00m\n\u001b[1;32m   3627\u001b[0m     \u001b[38;5;66;03m#  the TypeError.\u001b[39;00m\n",
      "\u001b[0;31mKeyError\u001b[0m: Timestamp('2017-01-30 00:00:00')",
      "\nThe above exception was the direct cause of the following exception:\n",
      "\u001b[0;31mKeyError\u001b[0m                                  Traceback (most recent call last)",
      "Input \u001b[0;32mIn [7]\u001b[0m, in \u001b[0;36m<cell line: 4>\u001b[0;34m()\u001b[0m\n\u001b[1;32m      1\u001b[0m \u001b[38;5;66;03m# Establish new columns with our starting principal, number of shares\u001b[39;00m\n\u001b[1;32m      2\u001b[0m \u001b[38;5;66;03m# Current Value of our shares, the running return of the selected security\u001b[39;00m\n\u001b[1;32m      3\u001b[0m \u001b[38;5;66;03m# and the Dollar Cost Averaging Running Return\u001b[39;00m\n\u001b[0;32m----> 4\u001b[0m data[\u001b[38;5;124m'\u001b[39m\u001b[38;5;124mShares\u001b[39m\u001b[38;5;124m'\u001b[39m] \u001b[38;5;241m=\u001b[39m p \u001b[38;5;241m/\u001b[39m \u001b[43mdata\u001b[49m\u001b[38;5;241;43m.\u001b[39;49m\u001b[43mloc\u001b[49m\u001b[43m[\u001b[49m\u001b[43mcontribution_dates\u001b[49m\u001b[38;5;241;43m.\u001b[39;49m\u001b[43miloc\u001b[49m\u001b[43m[\u001b[49m\u001b[38;5;241;43m0\u001b[39;49m\u001b[43m]\u001b[49m\u001b[43m,\u001b[49m\u001b[43m \u001b[49m\u001b[38;5;124;43m'\u001b[39;49m\u001b[38;5;124;43mAdj Close\u001b[39;49m\u001b[38;5;124;43m'\u001b[39;49m\u001b[43m]\u001b[49m\n\u001b[1;32m      5\u001b[0m data[\u001b[38;5;124m'\u001b[39m\u001b[38;5;124mPrincipal\u001b[39m\u001b[38;5;124m'\u001b[39m] \u001b[38;5;241m=\u001b[39m p\n\u001b[1;32m      6\u001b[0m data[\u001b[38;5;124m'\u001b[39m\u001b[38;5;124mCurrentValue\u001b[39m\u001b[38;5;124m'\u001b[39m] \u001b[38;5;241m=\u001b[39m p\n",
      "File \u001b[0;32m/opt/conda/lib/python3.9/site-packages/pandas/core/indexing.py:960\u001b[0m, in \u001b[0;36m_LocationIndexer.__getitem__\u001b[0;34m(self, key)\u001b[0m\n\u001b[1;32m    958\u001b[0m     key \u001b[38;5;241m=\u001b[39m \u001b[38;5;28mtuple\u001b[39m(com\u001b[38;5;241m.\u001b[39mapply_if_callable(x, \u001b[38;5;28mself\u001b[39m\u001b[38;5;241m.\u001b[39mobj) \u001b[38;5;28;01mfor\u001b[39;00m x \u001b[38;5;129;01min\u001b[39;00m key)\n\u001b[1;32m    959\u001b[0m     \u001b[38;5;28;01mif\u001b[39;00m \u001b[38;5;28mself\u001b[39m\u001b[38;5;241m.\u001b[39m_is_scalar_access(key):\n\u001b[0;32m--> 960\u001b[0m         \u001b[38;5;28;01mreturn\u001b[39;00m \u001b[38;5;28;43mself\u001b[39;49m\u001b[38;5;241;43m.\u001b[39;49m\u001b[43mobj\u001b[49m\u001b[38;5;241;43m.\u001b[39;49m\u001b[43m_get_value\u001b[49m\u001b[43m(\u001b[49m\u001b[38;5;241;43m*\u001b[39;49m\u001b[43mkey\u001b[49m\u001b[43m,\u001b[49m\u001b[43m \u001b[49m\u001b[43mtakeable\u001b[49m\u001b[38;5;241;43m=\u001b[39;49m\u001b[38;5;28;43mself\u001b[39;49m\u001b[38;5;241;43m.\u001b[39;49m\u001b[43m_takeable\u001b[49m\u001b[43m)\u001b[49m\n\u001b[1;32m    961\u001b[0m     \u001b[38;5;28;01mreturn\u001b[39;00m \u001b[38;5;28mself\u001b[39m\u001b[38;5;241m.\u001b[39m_getitem_tuple(key)\n\u001b[1;32m    962\u001b[0m \u001b[38;5;28;01melse\u001b[39;00m:\n\u001b[1;32m    963\u001b[0m     \u001b[38;5;66;03m# we by definition only have the 0th axis\u001b[39;00m\n",
      "File \u001b[0;32m/opt/conda/lib/python3.9/site-packages/pandas/core/frame.py:3622\u001b[0m, in \u001b[0;36mDataFrame._get_value\u001b[0;34m(self, index, col, takeable)\u001b[0m\n\u001b[1;32m   3616\u001b[0m engine \u001b[38;5;241m=\u001b[39m \u001b[38;5;28mself\u001b[39m\u001b[38;5;241m.\u001b[39mindex\u001b[38;5;241m.\u001b[39m_engine\n\u001b[1;32m   3618\u001b[0m \u001b[38;5;28;01mif\u001b[39;00m \u001b[38;5;129;01mnot\u001b[39;00m \u001b[38;5;28misinstance\u001b[39m(\u001b[38;5;28mself\u001b[39m\u001b[38;5;241m.\u001b[39mindex, MultiIndex):\n\u001b[1;32m   3619\u001b[0m     \u001b[38;5;66;03m# CategoricalIndex: Trying to use the engine fastpath may give incorrect\u001b[39;00m\n\u001b[1;32m   3620\u001b[0m     \u001b[38;5;66;03m#  results if our categories are integers that dont match our codes\u001b[39;00m\n\u001b[1;32m   3621\u001b[0m     \u001b[38;5;66;03m# IntervalIndex: IntervalTree has no get_loc\u001b[39;00m\n\u001b[0;32m-> 3622\u001b[0m     row \u001b[38;5;241m=\u001b[39m \u001b[38;5;28;43mself\u001b[39;49m\u001b[38;5;241;43m.\u001b[39;49m\u001b[43mindex\u001b[49m\u001b[38;5;241;43m.\u001b[39;49m\u001b[43mget_loc\u001b[49m\u001b[43m(\u001b[49m\u001b[43mindex\u001b[49m\u001b[43m)\u001b[49m\n\u001b[1;32m   3623\u001b[0m     \u001b[38;5;28;01mreturn\u001b[39;00m series\u001b[38;5;241m.\u001b[39m_values[row]\n\u001b[1;32m   3625\u001b[0m \u001b[38;5;66;03m# For MultiIndex going through engine effectively restricts us to\u001b[39;00m\n\u001b[1;32m   3626\u001b[0m \u001b[38;5;66;03m#  same-length tuples; see test_get_set_value_no_partial_indexing\u001b[39;00m\n",
      "File \u001b[0;32m/opt/conda/lib/python3.9/site-packages/pandas/core/indexes/datetimes.py:681\u001b[0m, in \u001b[0;36mDatetimeIndex.get_loc\u001b[0;34m(self, key, method, tolerance)\u001b[0m\n\u001b[1;32m    679\u001b[0m     \u001b[38;5;28;01mreturn\u001b[39;00m Index\u001b[38;5;241m.\u001b[39mget_loc(\u001b[38;5;28mself\u001b[39m, key, method, tolerance)\n\u001b[1;32m    680\u001b[0m \u001b[38;5;28;01mexcept\u001b[39;00m \u001b[38;5;167;01mKeyError\u001b[39;00m \u001b[38;5;28;01mas\u001b[39;00m err:\n\u001b[0;32m--> 681\u001b[0m     \u001b[38;5;28;01mraise\u001b[39;00m \u001b[38;5;167;01mKeyError\u001b[39;00m(orig_key) \u001b[38;5;28;01mfrom\u001b[39;00m \u001b[38;5;21;01merr\u001b[39;00m\n",
      "\u001b[0;31mKeyError\u001b[0m: Timestamp('2017-01-30 00:00:00')"
     ]
    }
   ],
   "source": [
    "# Establish new columns with our starting principal, number of shares\n",
    "# Current Value of our shares, the running return of the selected security\n",
    "# and the Dollar Cost Averaging Running Return\n",
    "data['Shares'] = p / data.loc[contribution_dates.iloc[0], 'Adj Close']\n",
    "data['Principal'] = p\n",
    "data['CurrentValue'] = p\n",
    "data['BenchmarkReturn'] = 0\n",
    "data['DCAReturn'] = 0\n",
    "\n",
    "for i in range(1, len(data.loc[contribution_dates])):\n",
    "  # Calculate the number of Shares added by the contribution and add to previous month's amount\n",
    "  data.loc[contribution_dates.iloc[i], 'Shares']  = data.loc[contribution_dates.iloc[i-1], 'Shares'] + (monthly_add / data.loc[contribution_dates.iloc[i], 'Adj Close'])\n",
    "\n",
    "  # Add the monthly contribution at the beginning of each month to the principal\n",
    "  data.loc[contribution_dates.iloc[i], 'Principal']  = data.loc[contribution_dates.iloc[i-1], 'Principal'] + monthly_add\n",
    "\n",
    "  # Use the present value of the security to find the total value of all shares owned\n",
    "  data.loc[contribution_dates.iloc[i], 'CurrentValue']  = data.loc[contribution_dates.iloc[i], 'Shares'] * data.loc[contribution_dates.iloc[i], 'Adj Close']\n",
    "\n",
    "  # Calculate the running return of the security based on the current month's price (iterative)\n",
    "  data.loc[contribution_dates.iloc[i], 'BenchmarkReturn'] = (data.loc[contribution_dates.iloc[i], 'Adj Close'] - data.loc[contribution_dates.iloc[0], 'Adj Close'])/data.loc[contribution_dates.iloc[0], 'Adj Close']*100\n",
    "\n",
    "  # Calculate the running return of the DCA balance on the current month's price (iterative)\n",
    "  data.loc[contribution_dates.iloc[i], 'DCAReturn'] = (data.loc[contribution_dates.iloc[i], 'CurrentValue'] - data.loc[contribution_dates.iloc[i], 'Principal'])/data.loc[contribution_dates.iloc[i], 'Principal']*100\n",
    "\n",
    "# Create a new DataFrame that only has rows corresponding to the contribution dates\n",
    "monthly_data = data.loc[contribution_dates]\n",
    "\n",
    "# Print out the last 5 months worth of results\n",
    "monthly_data.tail()"
   ]
  }
 ],
 "metadata": {
  "kernelspec": {
   "display_name": "Python 3 (ipykernel)",
   "language": "python",
   "name": "python3"
  },
  "language_info": {
   "codemirror_mode": {
    "name": "ipython",
    "version": 3
   },
   "file_extension": ".py",
   "mimetype": "text/x-python",
   "name": "python",
   "nbconvert_exporter": "python",
   "pygments_lexer": "ipython3",
   "version": "3.9.10"
  }
 },
 "nbformat": 4,
 "nbformat_minor": 5
}
